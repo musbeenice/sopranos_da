{
 "cells": [
  {
   "cell_type": "markdown",
   "metadata": {},
   "source": [
    "# The Sopranos\n",
    "### Рейтинг серий и режиссеры"
   ]
  },
  {
   "cell_type": "markdown",
   "metadata": {},
   "source": [
    "#### Парсинг и предобработка данных для визуализации информации о рейтингах и режиссерах серий сериала \"Сопрано\" в Power BI"
   ]
  },
  {
   "cell_type": "markdown",
   "metadata": {},
   "source": [
    "Загрузим необходимые библиотеки"
   ]
  },
  {
   "cell_type": "code",
   "execution_count": 1,
   "metadata": {},
   "outputs": [],
   "source": [
    "import pandas as pd  # Для работы с данными в pd.DataFrame\n",
    "\n",
    "import seaborn as sns  # Для визуализации данных\n",
    "\n",
    "import time  # Для работы с временными задержками\n",
    "\n",
    "import requests  # Для HTTP-запросов\n",
    "from bs4 import BeautifulSoup  # Для парсинга HTML\n",
    "\n",
    "from selenium import webdriver\n",
    "from selenium.webdriver.chrome.service import Service\n",
    "from webdriver_manager.chrome import ChromeDriverManager\n",
    "from selenium.webdriver.common.by import By\n",
    "from selenium.webdriver.common.action_chains import ActionChains\n",
    "from selenium.webdriver.support.ui import WebDriverWait\n",
    "from selenium.webdriver.common.keys import Keys\n",
    "from selenium.webdriver.support import expected_conditions as EC\n",
    "\n",
    "import time  # Для пауз между действиями\n",
    "\n",
    "%matplotlib inline"
   ]
  },
  {
   "cell_type": "markdown",
   "metadata": {},
   "source": [
    "Парсим данные о режиссерах при помощи библиотек Selenium и BeautifulSoup. \\\n",
    "Note: классы элементов на сайте IMDb могут меняться. Если скрипт перестал работать, надо проверить актуальные классы через DevTools"
   ]
  },
  {
   "cell_type": "markdown",
   "metadata": {},
   "source": [
    "Создадим функцию для парсинга"
   ]
  },
  {
   "cell_type": "code",
   "execution_count": 34,
   "metadata": {},
   "outputs": [],
   "source": [
    "def parse_imdb_directors_episodes(driver, url, save_path=None):\n",
    "    '''\n",
    "    Парсит информацию о режиссерах и эпизодах сериала \"The Sopranos\" с IMDb\n",
    "    \n",
    "    Параметры:\n",
    "        driver: Selenium WebDriver\n",
    "        url (str): URL страницы для парсинга\n",
    "        save_path (str/None): путь для сохранения CSV (если None - не сохранять)\n",
    "    \n",
    "    Возвращает:\n",
    "        pd.DataFrame: датафрейм с полями ['director', 'season_ep']\n",
    "    '''\n",
    "    \n",
    "    # Список для хранения данных о режиссерах\n",
    "    directors = []\n",
    "\n",
    "    try:\n",
    "        driver.get(url)  # Открываем страницу в браузере\n",
    "            \n",
    "        # Ожидаем появления якоря на секцию с режиссерами\n",
    "        directors_anchor = WebDriverWait(driver, 20).until(\n",
    "            EC.presence_of_element_located((By.XPATH, \"//a[@href='#director']\"))\n",
    "        )\n",
    "        \n",
    "        # Находим секцию с режиссерами\n",
    "        directors_section = directors_anchor.find_element(By.XPATH, './ancestor::section[1]')\n",
    "        \n",
    "        # Находим всех режиссеров в секции\n",
    "        directors_list = directors_section.find_elements(By.XPATH, \".//li[contains(@class, 'ipc-metadata-list-summary-item')]\")\n",
    "        \n",
    "        # Обрабатываем каждого режиссера\n",
    "        for director in directors_list:\n",
    "            try:\n",
    "                # Ищем кнопку \"episodes\"\n",
    "                episodes_buttons = director.find_elements(By.XPATH, \".//button[contains(@class, 'ipc-link') and contains(., 'episode')]\")\n",
    "                    \n",
    "                # Кликаем на кнопку\n",
    "                ActionChains(driver).move_to_element(episodes_buttons[0]).click().perform()\n",
    "                \n",
    "                # Ожидаем появления попапа\n",
    "                popup = WebDriverWait(driver, 10).until(\n",
    "                    EC.visibility_of_element_located((By.CSS_SELECTOR, \"div.ipc-popover__content, div[role='dialog']\"))\n",
    "                )\n",
    "                \n",
    "                # Ждем загрузки контента в попапе\n",
    "                time.sleep(1)\n",
    "                \n",
    "                # Парсим HTML попапа\n",
    "                popup_html = popup.get_attribute('outerHTML')\n",
    "                soup = BeautifulSoup(popup_html, 'lxml')\n",
    "                \n",
    "                # Извлекаем имя режиссера\n",
    "                dir_name_elem = soup.find('h3', class_='ipc-title__text')\n",
    "                dir_name = dir_name_elem.text.strip()\n",
    "                \n",
    "                # Пробуем найти вкладки с сезонами\n",
    "                season_tabs = driver.find_elements(By.CSS_SELECTOR, \"li.ipc-tab[role='tab']\")\n",
    "                \n",
    "                if season_tabs:\n",
    "                    # Обрабатываем каждый сезон\n",
    "                    for tab in season_tabs:\n",
    "                        try:\n",
    "                            # Кликаем на вкладку сезона\n",
    "                            driver.execute_script(\"arguments[0].scrollIntoView({block: 'center'});\", tab)\n",
    "                            ActionChains(driver).move_to_element(tab).click().perform()\n",
    "                            \n",
    "                            time.sleep(1)  # Пауза для загрузки\n",
    "                            \n",
    "                            # Обновляем HTML после переключения вкладки\n",
    "                            popup_html = popup.get_attribute('outerHTML')\n",
    "                            soup = BeautifulSoup(popup_html, 'lxml')\n",
    "                            \n",
    "                            # Находим все эпизоды, снятые режиссером\n",
    "                            episodes = soup.find_all('a', class_=lambda x: x and 'episodic-credits-bottomsheet__menu-item' in x)\n",
    "                            \n",
    "                            for episode in episodes:\n",
    "                                season_ep = episode.find('li', class_='ipc-inline-list__item')\n",
    "                                directors.append({\n",
    "                                    'director': dir_name,\n",
    "                                    'season_ep': season_ep.text.strip()\n",
    "                                })\n",
    "                        except Exception as e:\n",
    "                            print(f\"Ошибка при обработке вкладки сезона: {str(e)}\")\n",
    "                            continue\n",
    "                else:\n",
    "                    # Обработка случая без вкладок (один эпизод)\n",
    "                    episode = soup.find('a', class_=lambda x: x and 'episodic-credits-bottomsheet__menu-item' in x)\n",
    "                    season_ep = episode.find('li', class_='ipc-inline-list__item')\n",
    "                    directors.append({\n",
    "                        'director': dir_name,\n",
    "                        'season_ep': season_ep.text.strip()\n",
    "                    })\n",
    "                    \n",
    "            except Exception as e:\n",
    "                print(f\"Ошибка при обработке режиссера: {str(e)}\")\n",
    "                \n",
    "            finally:\n",
    "                # Закрываем попап\n",
    "                ActionChains(driver).send_keys(Keys.ESCAPE).perform()\n",
    "                time.sleep(0.5)\n",
    "    except Exception as e:\n",
    "        print(f\"Критическая ошибка: {str(e)}\")\n",
    "    finally:\n",
    "        # Создаем pd.DataFrame\n",
    "        df = pd.DataFrame(directors)\n",
    "        \n",
    "        if save_path:\n",
    "            df.to_csv(save_path, index=False)\n",
    "            print(f\"Данные сохранены в {save_path}\")\n",
    "        \n",
    "        return df"
   ]
  },
  {
   "cell_type": "markdown",
   "metadata": {},
   "source": [
    "Применим функцию"
   ]
  },
  {
   "cell_type": "code",
   "execution_count": 35,
   "metadata": {},
   "outputs": [
    {
     "name": "stdout",
     "output_type": "stream",
     "text": [
      "Данные сохранены в sopranos_directors.csv\n",
      "Успешно собрано 86 записей\n"
     ]
    }
   ],
   "source": [
    "if __name__ == \"__main__\":\n",
    "    \n",
    "    # Настройки Chrome для стабильной работы\n",
    "    options = webdriver.ChromeOptions()\n",
    "    options.add_argument('--start-maximized')  # Открываем браузер на полный экран\n",
    "    options.add_experimental_option('detach', True)  # Браузер не закроется автоматически после скрипта\n",
    "\n",
    "    # Инициализация драйвера Chrome с автоматической установкой нужной версии\n",
    "    service = Service(ChromeDriverManager().install())\n",
    "    driver = webdriver.Chrome(service=service, options=options)\n",
    "    \n",
    "    # URL для парсинга\n",
    "    url = 'https://www.imdb.com/title/tt0141842/fullcredits'\n",
    "    \n",
    "    # Запуск парсера\n",
    "    sopranos_directors_df = parse_imdb_directors_episodes(\n",
    "        driver=driver,\n",
    "        url=url,\n",
    "        save_path='data/raw/sopranos_directors.csv'\n",
    "    )\n",
    "    \n",
    "    print(f\"Успешно собрано {len(sopranos_directors_df)} записей\")\n",
    "    driver.quit()"
   ]
  },
  {
   "cell_type": "markdown",
   "metadata": {},
   "source": [
    "Посмотрим на итоговый датафрейм"
   ]
  },
  {
   "cell_type": "code",
   "execution_count": 36,
   "metadata": {},
   "outputs": [
    {
     "data": {
      "text/html": [
       "<div>\n",
       "<style scoped>\n",
       "    .dataframe tbody tr th:only-of-type {\n",
       "        vertical-align: middle;\n",
       "    }\n",
       "\n",
       "    .dataframe tbody tr th {\n",
       "        vertical-align: top;\n",
       "    }\n",
       "\n",
       "    .dataframe thead th {\n",
       "        text-align: right;\n",
       "    }\n",
       "</style>\n",
       "<table border=\"1\" class=\"dataframe\">\n",
       "  <thead>\n",
       "    <tr style=\"text-align: right;\">\n",
       "      <th></th>\n",
       "      <th>director</th>\n",
       "      <th>season_ep</th>\n",
       "    </tr>\n",
       "  </thead>\n",
       "  <tbody>\n",
       "    <tr>\n",
       "      <th>0</th>\n",
       "      <td>Timothy Van Patten</td>\n",
       "      <td>S1.E8</td>\n",
       "    </tr>\n",
       "    <tr>\n",
       "      <th>1</th>\n",
       "      <td>Timothy Van Patten</td>\n",
       "      <td>S2.E4</td>\n",
       "    </tr>\n",
       "    <tr>\n",
       "      <th>2</th>\n",
       "      <td>Timothy Van Patten</td>\n",
       "      <td>S2.E5</td>\n",
       "    </tr>\n",
       "    <tr>\n",
       "      <th>3</th>\n",
       "      <td>Timothy Van Patten</td>\n",
       "      <td>S2.E11</td>\n",
       "    </tr>\n",
       "    <tr>\n",
       "      <th>4</th>\n",
       "      <td>Timothy Van Patten</td>\n",
       "      <td>S3.E2</td>\n",
       "    </tr>\n",
       "    <tr>\n",
       "      <th>...</th>\n",
       "      <td>...</td>\n",
       "      <td>...</td>\n",
       "    </tr>\n",
       "    <tr>\n",
       "      <th>81</th>\n",
       "      <td>Danny Leiner</td>\n",
       "      <td>S6.E7</td>\n",
       "    </tr>\n",
       "    <tr>\n",
       "      <th>82</th>\n",
       "      <td>David Nutter</td>\n",
       "      <td>S6.E2</td>\n",
       "    </tr>\n",
       "    <tr>\n",
       "      <th>83</th>\n",
       "      <td>Steve Shill</td>\n",
       "      <td>S6.E10</td>\n",
       "    </tr>\n",
       "    <tr>\n",
       "      <th>84</th>\n",
       "      <td>Phil Abraham</td>\n",
       "      <td>S6.E15</td>\n",
       "    </tr>\n",
       "    <tr>\n",
       "      <th>85</th>\n",
       "      <td>Terence Winter</td>\n",
       "      <td>S6.E17</td>\n",
       "    </tr>\n",
       "  </tbody>\n",
       "</table>\n",
       "<p>86 rows × 2 columns</p>\n",
       "</div>"
      ],
      "text/plain": [
       "              director season_ep\n",
       "0   Timothy Van Patten     S1.E8\n",
       "1   Timothy Van Patten     S2.E4\n",
       "2   Timothy Van Patten     S2.E5\n",
       "3   Timothy Van Patten    S2.E11\n",
       "4   Timothy Van Patten     S3.E2\n",
       "..                 ...       ...\n",
       "81        Danny Leiner     S6.E7\n",
       "82        David Nutter     S6.E2\n",
       "83         Steve Shill    S6.E10\n",
       "84        Phil Abraham    S6.E15\n",
       "85      Terence Winter    S6.E17\n",
       "\n",
       "[86 rows x 2 columns]"
      ]
     },
     "execution_count": 36,
     "metadata": {},
     "output_type": "execute_result"
    }
   ],
   "source": [
    "sopranos_directors_df"
   ]
  },
  {
   "cell_type": "markdown",
   "metadata": {},
   "source": [
    "Далее спарсим рейтинги серий. \\\n",
    "Создадим функцию для парсинга"
   ]
  },
  {
   "cell_type": "code",
   "execution_count": 2,
   "metadata": {},
   "outputs": [],
   "source": [
    "def parse_imdb_sopranos_ratings(base_url, save_path=None):\n",
    "    '''\n",
    "    Парсит рейтинги эпизодов сериала \"The Sopranos\" с IMDB\n",
    "    \n",
    "    Параметры:\n",
    "        base_url (str): URL страницы для парсинга\n",
    "        save_path (str/None): путь для сохранения CSV (если None - не сохранять)\n",
    "    \n",
    "    Возвращает:\n",
    "        pd.DataFrame: датафрейм с полями ['season', 'ep_num', 'ep_title', 'ep_rating']\n",
    "    '''\n",
    "    \n",
    "    seasons = []  # Список для хранения данных\n",
    "    \n",
    "    # Проходим по всем сезонам (от 1 до 6)\n",
    "    for season in range(1, 7):\n",
    "        \n",
    "        # Формируем URL для конкретного сезона\n",
    "        url = f\"{base_url}?season={season}\"\n",
    "        \n",
    "        # Заголовки для имитации браузера и избежания блокировки\n",
    "        headers = {\n",
    "            \"User-Agent\": \"Mozilla/5.0 (Windows NT 10.0; Win64; x64) AppleWebKit/537.36 (KHTML, like Gecko) Chrome/120.0.0.0 Safari/537.36\",\n",
    "            \"Accept-Language\": \"en-US,en;q=0.9\"\n",
    "        }\n",
    "        \n",
    "        # Отправляем GET-запрос и получаем ответ\n",
    "        response = requests.get(url, headers=headers, timeout=10)\n",
    "        response.raise_for_status()\n",
    "        soup = BeautifulSoup(response.text, 'lxml')\n",
    "        \n",
    "        # Находим все контейнеры с эпизодами\n",
    "        episode_containers = soup.find_all('article', class_='sc-fcf4d924-1 emwOvP episode-item-wrapper')\n",
    "        \n",
    "        # Обрабатываем каждый эпизод\n",
    "        for episode in episode_containers:\n",
    "            \n",
    "            # Извлекаем заголовок эпизода\n",
    "            title = episode.find('div', class_='ipc-title__text').text.strip()\n",
    "            \n",
    "            # Извлекаем номер эпизода (формат \"S01.E01 Название\")\n",
    "            episode_number = title.split('.E')[1].split(' ')[0]\n",
    "            \n",
    "            # Извлекаем название эпизода\n",
    "            ep_title = title.split(' ∙ ')[1]\n",
    "            \n",
    "            # Извлекаем рейтинг эпизода\n",
    "            rating = episode.find('span', class_='ipc-rating-star--rating').text.strip()\n",
    "            \n",
    "            # Добавляем данные в список\n",
    "            seasons.append({\n",
    "                'season': season,\n",
    "                'ep_num': episode_number,\n",
    "                'ep_title': ep_title,\n",
    "                'ep_rating': rating\n",
    "            })\n",
    "\n",
    "    # Создаем pd.DataFrame\n",
    "    df = pd.DataFrame(seasons)\n",
    "\n",
    "    if save_path:\n",
    "        df.to_csv(save_path, index=False)\n",
    "        print(f\"Данные сохранены в {save_path}\")\n",
    "\n",
    "    return df"
   ]
  },
  {
   "cell_type": "markdown",
   "metadata": {},
   "source": [
    "Применим функцию"
   ]
  },
  {
   "cell_type": "code",
   "execution_count": 4,
   "metadata": {},
   "outputs": [
    {
     "name": "stdout",
     "output_type": "stream",
     "text": [
      "Данные сохранены в data/raw/sopranos_ratings.csv\n",
      "Успешно собрано 86 записей\n"
     ]
    }
   ],
   "source": [
    "if __name__ == \"__main__\":\n",
    "\n",
    "    # URL для парсинга\n",
    "    base_url = 'https://www.imdb.com/title/tt0141842/episodes'\n",
    "    \n",
    "    # Запуск парсера\n",
    "    sopranos_ratings_df = parse_imdb_sopranos_ratings(\n",
    "        base_url=base_url,\n",
    "        save_path='data/raw/sopranos_ratings.csv'\n",
    "    )\n",
    "    \n",
    "    print(f\"Успешно собрано {len(sopranos_ratings_df)} записей\")"
   ]
  },
  {
   "cell_type": "markdown",
   "metadata": {},
   "source": [
    "Посмотрим на итоговый датафрейм"
   ]
  },
  {
   "cell_type": "code",
   "execution_count": 46,
   "metadata": {},
   "outputs": [
    {
     "data": {
      "text/html": [
       "<div>\n",
       "<style scoped>\n",
       "    .dataframe tbody tr th:only-of-type {\n",
       "        vertical-align: middle;\n",
       "    }\n",
       "\n",
       "    .dataframe tbody tr th {\n",
       "        vertical-align: top;\n",
       "    }\n",
       "\n",
       "    .dataframe thead th {\n",
       "        text-align: right;\n",
       "    }\n",
       "</style>\n",
       "<table border=\"1\" class=\"dataframe\">\n",
       "  <thead>\n",
       "    <tr style=\"text-align: right;\">\n",
       "      <th></th>\n",
       "      <th>season</th>\n",
       "      <th>ep_num</th>\n",
       "      <th>ep_title</th>\n",
       "      <th>ep_rating</th>\n",
       "    </tr>\n",
       "  </thead>\n",
       "  <tbody>\n",
       "    <tr>\n",
       "      <th>0</th>\n",
       "      <td>1</td>\n",
       "      <td>1</td>\n",
       "      <td>Pilot</td>\n",
       "      <td>8.4</td>\n",
       "    </tr>\n",
       "    <tr>\n",
       "      <th>1</th>\n",
       "      <td>1</td>\n",
       "      <td>2</td>\n",
       "      <td>46 Long</td>\n",
       "      <td>8.2</td>\n",
       "    </tr>\n",
       "    <tr>\n",
       "      <th>2</th>\n",
       "      <td>1</td>\n",
       "      <td>3</td>\n",
       "      <td>Denial, Anger, Acceptance</td>\n",
       "      <td>8.5</td>\n",
       "    </tr>\n",
       "    <tr>\n",
       "      <th>3</th>\n",
       "      <td>1</td>\n",
       "      <td>4</td>\n",
       "      <td>Meadowlands</td>\n",
       "      <td>8.5</td>\n",
       "    </tr>\n",
       "    <tr>\n",
       "      <th>4</th>\n",
       "      <td>1</td>\n",
       "      <td>5</td>\n",
       "      <td>College</td>\n",
       "      <td>8.9</td>\n",
       "    </tr>\n",
       "    <tr>\n",
       "      <th>...</th>\n",
       "      <td>...</td>\n",
       "      <td>...</td>\n",
       "      <td>...</td>\n",
       "      <td>...</td>\n",
       "    </tr>\n",
       "    <tr>\n",
       "      <th>81</th>\n",
       "      <td>6</td>\n",
       "      <td>17</td>\n",
       "      <td>Walk Like a Man</td>\n",
       "      <td>8.9</td>\n",
       "    </tr>\n",
       "    <tr>\n",
       "      <th>82</th>\n",
       "      <td>6</td>\n",
       "      <td>18</td>\n",
       "      <td>Kennedy and Heidi</td>\n",
       "      <td>9.2</td>\n",
       "    </tr>\n",
       "    <tr>\n",
       "      <th>83</th>\n",
       "      <td>6</td>\n",
       "      <td>19</td>\n",
       "      <td>The Second Coming</td>\n",
       "      <td>9.3</td>\n",
       "    </tr>\n",
       "    <tr>\n",
       "      <th>84</th>\n",
       "      <td>6</td>\n",
       "      <td>20</td>\n",
       "      <td>The Blue Comet</td>\n",
       "      <td>9.6</td>\n",
       "    </tr>\n",
       "    <tr>\n",
       "      <th>85</th>\n",
       "      <td>6</td>\n",
       "      <td>21</td>\n",
       "      <td>Made in America</td>\n",
       "      <td>9.4</td>\n",
       "    </tr>\n",
       "  </tbody>\n",
       "</table>\n",
       "<p>86 rows × 4 columns</p>\n",
       "</div>"
      ],
      "text/plain": [
       "    season ep_num                   ep_title ep_rating\n",
       "0        1      1                      Pilot       8.4\n",
       "1        1      2                    46 Long       8.2\n",
       "2        1      3  Denial, Anger, Acceptance       8.5\n",
       "3        1      4                Meadowlands       8.5\n",
       "4        1      5                    College       8.9\n",
       "..     ...    ...                        ...       ...\n",
       "81       6     17            Walk Like a Man       8.9\n",
       "82       6     18          Kennedy and Heidi       9.2\n",
       "83       6     19          The Second Coming       9.3\n",
       "84       6     20             The Blue Comet       9.6\n",
       "85       6     21            Made in America       9.4\n",
       "\n",
       "[86 rows x 4 columns]"
      ]
     },
     "execution_count": 46,
     "metadata": {},
     "output_type": "execute_result"
    }
   ],
   "source": [
    "sopranos_ratings_df"
   ]
  },
  {
   "cell_type": "markdown",
   "metadata": {},
   "source": [
    "### Предобработка данных"
   ]
  },
  {
   "cell_type": "markdown",
   "metadata": {},
   "source": [
    "Теперь займемся предобработкой данных"
   ]
  },
  {
   "cell_type": "code",
   "execution_count": 49,
   "metadata": {},
   "outputs": [],
   "source": [
    "# Загружаем данные из CSV-файлов\n",
    "\n",
    "sprns_rat_df = pd.read_csv('data/raw/sopranos_ratings.csv')"
   ]
  },
  {
   "cell_type": "code",
   "execution_count": 50,
   "metadata": {},
   "outputs": [],
   "source": [
    "sprns_dir_df = pd.read_csv('data/raw/sopranos_directors.csv')"
   ]
  },
  {
   "cell_type": "markdown",
   "metadata": {},
   "source": [
    "Сначала поработаем с датафреймом с рейтингами"
   ]
  },
  {
   "cell_type": "code",
   "execution_count": 68,
   "metadata": {},
   "outputs": [
    {
     "data": {
      "text/html": [
       "<div>\n",
       "<style scoped>\n",
       "    .dataframe tbody tr th:only-of-type {\n",
       "        vertical-align: middle;\n",
       "    }\n",
       "\n",
       "    .dataframe tbody tr th {\n",
       "        vertical-align: top;\n",
       "    }\n",
       "\n",
       "    .dataframe thead th {\n",
       "        text-align: right;\n",
       "    }\n",
       "</style>\n",
       "<table border=\"1\" class=\"dataframe\">\n",
       "  <thead>\n",
       "    <tr style=\"text-align: right;\">\n",
       "      <th></th>\n",
       "      <th>season</th>\n",
       "      <th>ep_num</th>\n",
       "      <th>ep_title</th>\n",
       "      <th>ep_rating</th>\n",
       "      <th>season_ep_num</th>\n",
       "    </tr>\n",
       "  </thead>\n",
       "  <tbody>\n",
       "    <tr>\n",
       "      <th>0</th>\n",
       "      <td>1</td>\n",
       "      <td>1</td>\n",
       "      <td>Pilot</td>\n",
       "      <td>8.4</td>\n",
       "      <td>1.1</td>\n",
       "    </tr>\n",
       "    <tr>\n",
       "      <th>1</th>\n",
       "      <td>1</td>\n",
       "      <td>2</td>\n",
       "      <td>46 Long</td>\n",
       "      <td>8.2</td>\n",
       "      <td>1.2</td>\n",
       "    </tr>\n",
       "    <tr>\n",
       "      <th>2</th>\n",
       "      <td>1</td>\n",
       "      <td>3</td>\n",
       "      <td>Denial, Anger, Acceptance</td>\n",
       "      <td>8.5</td>\n",
       "      <td>1.3</td>\n",
       "    </tr>\n",
       "    <tr>\n",
       "      <th>3</th>\n",
       "      <td>1</td>\n",
       "      <td>4</td>\n",
       "      <td>Meadowlands</td>\n",
       "      <td>8.5</td>\n",
       "      <td>1.4</td>\n",
       "    </tr>\n",
       "    <tr>\n",
       "      <th>4</th>\n",
       "      <td>1</td>\n",
       "      <td>5</td>\n",
       "      <td>College</td>\n",
       "      <td>8.9</td>\n",
       "      <td>1.5</td>\n",
       "    </tr>\n",
       "  </tbody>\n",
       "</table>\n",
       "</div>"
      ],
      "text/plain": [
       "   season  ep_num                   ep_title  ep_rating season_ep_num\n",
       "0       1       1                      Pilot        8.4           1.1\n",
       "1       1       2                    46 Long        8.2           1.2\n",
       "2       1       3  Denial, Anger, Acceptance        8.5           1.3\n",
       "3       1       4                Meadowlands        8.5           1.4\n",
       "4       1       5                    College        8.9           1.5"
      ]
     },
     "execution_count": 68,
     "metadata": {},
     "output_type": "execute_result"
    }
   ],
   "source": [
    "# Посмотрим на структуру датафрейма\n",
    "\n",
    "sprns_rat_df.head()"
   ]
  },
  {
   "cell_type": "code",
   "execution_count": 65,
   "metadata": {},
   "outputs": [],
   "source": [
    "# Создадим комбинированное поле \"сезон.эпизод\"\n",
    "\n",
    "sprns_rat_df['season_ep_num'] = sprns_rat_df.season.astype(str) + '.' + sprns_rat_df.ep_num.astype(str)"
   ]
  },
  {
   "cell_type": "markdown",
   "metadata": {},
   "source": [
    "Добавим поле с рейтинговыми группами"
   ]
  },
  {
   "cell_type": "code",
   "execution_count": 77,
   "metadata": {},
   "outputs": [],
   "source": [
    "bins = [0, 8.0, 8.5, 9.0, 9.5, 10]\n",
    "labels = ['Below 8.0', '8.0–8.5', '8.5–9.0', '9.0–9.5', '9.5 or above']\n",
    "sprns_rat_df['rating_range'] = pd.cut(sprns_rat_df.ep_rating, \n",
    "                                      bins=bins, \n",
    "                                      labels=labels, \n",
    "                                      right=False)  # Интервал включает левую границу, но не правую (например, 8.0 попадает в \"8.0–8.5\")"
   ]
  },
  {
   "cell_type": "markdown",
   "metadata": {},
   "source": [
    "Посмотрим на итоговый датафрейм"
   ]
  },
  {
   "cell_type": "code",
   "execution_count": 84,
   "metadata": {},
   "outputs": [
    {
     "data": {
      "text/html": [
       "<div>\n",
       "<style scoped>\n",
       "    .dataframe tbody tr th:only-of-type {\n",
       "        vertical-align: middle;\n",
       "    }\n",
       "\n",
       "    .dataframe tbody tr th {\n",
       "        vertical-align: top;\n",
       "    }\n",
       "\n",
       "    .dataframe thead th {\n",
       "        text-align: right;\n",
       "    }\n",
       "</style>\n",
       "<table border=\"1\" class=\"dataframe\">\n",
       "  <thead>\n",
       "    <tr style=\"text-align: right;\">\n",
       "      <th></th>\n",
       "      <th>season</th>\n",
       "      <th>ep_num</th>\n",
       "      <th>ep_title</th>\n",
       "      <th>ep_rating</th>\n",
       "      <th>season_ep_num</th>\n",
       "      <th>rating_range</th>\n",
       "    </tr>\n",
       "  </thead>\n",
       "  <tbody>\n",
       "    <tr>\n",
       "      <th>0</th>\n",
       "      <td>1</td>\n",
       "      <td>1</td>\n",
       "      <td>Pilot</td>\n",
       "      <td>8.4</td>\n",
       "      <td>1.1</td>\n",
       "      <td>8.0–8.5</td>\n",
       "    </tr>\n",
       "    <tr>\n",
       "      <th>1</th>\n",
       "      <td>1</td>\n",
       "      <td>2</td>\n",
       "      <td>46 Long</td>\n",
       "      <td>8.2</td>\n",
       "      <td>1.2</td>\n",
       "      <td>8.0–8.5</td>\n",
       "    </tr>\n",
       "    <tr>\n",
       "      <th>2</th>\n",
       "      <td>1</td>\n",
       "      <td>3</td>\n",
       "      <td>Denial, Anger, Acceptance</td>\n",
       "      <td>8.5</td>\n",
       "      <td>1.3</td>\n",
       "      <td>8.5–9.0</td>\n",
       "    </tr>\n",
       "    <tr>\n",
       "      <th>3</th>\n",
       "      <td>1</td>\n",
       "      <td>4</td>\n",
       "      <td>Meadowlands</td>\n",
       "      <td>8.5</td>\n",
       "      <td>1.4</td>\n",
       "      <td>8.5–9.0</td>\n",
       "    </tr>\n",
       "    <tr>\n",
       "      <th>4</th>\n",
       "      <td>1</td>\n",
       "      <td>5</td>\n",
       "      <td>College</td>\n",
       "      <td>8.9</td>\n",
       "      <td>1.5</td>\n",
       "      <td>8.5–9.0</td>\n",
       "    </tr>\n",
       "  </tbody>\n",
       "</table>\n",
       "</div>"
      ],
      "text/plain": [
       "   season  ep_num                   ep_title  ep_rating season_ep_num  \\\n",
       "0       1       1                      Pilot        8.4           1.1   \n",
       "1       1       2                    46 Long        8.2           1.2   \n",
       "2       1       3  Denial, Anger, Acceptance        8.5           1.3   \n",
       "3       1       4                Meadowlands        8.5           1.4   \n",
       "4       1       5                    College        8.9           1.5   \n",
       "\n",
       "  rating_range  \n",
       "0      8.0–8.5  \n",
       "1      8.0–8.5  \n",
       "2      8.5–9.0  \n",
       "3      8.5–9.0  \n",
       "4      8.5–9.0  "
      ]
     },
     "execution_count": 84,
     "metadata": {},
     "output_type": "execute_result"
    }
   ],
   "source": [
    "sprns_rat_df.head()"
   ]
  },
  {
   "cell_type": "markdown",
   "metadata": {},
   "source": [
    "Сохраняем обработанные данные о рейтингах"
   ]
  },
  {
   "cell_type": "code",
   "execution_count": 85,
   "metadata": {},
   "outputs": [],
   "source": [
    "# sprns_rat_df.to_csv('data/processed/sopranos_ratings_edited.csv', index=False)"
   ]
  },
  {
   "cell_type": "markdown",
   "metadata": {},
   "source": [
    "Теперь поработаем с датафреймом с режиссерами"
   ]
  },
  {
   "cell_type": "code",
   "execution_count": 53,
   "metadata": {},
   "outputs": [],
   "source": [
    "# Извлечем номер сезона из записи формата \"S01E01\"\n",
    "\n",
    "sprns_dir_df['season'] = sprns_dir_df.season_ep.str.split('.').str[0].str[1]"
   ]
  },
  {
   "cell_type": "code",
   "execution_count": 54,
   "metadata": {},
   "outputs": [],
   "source": [
    "# Извлечем номер эпизода\n",
    "\n",
    "sprns_dir_df['ep_num'] = (sprns_dir_df.season_ep.str.split('.').str[1].str[1:]).astype('int')"
   ]
  },
  {
   "cell_type": "code",
   "execution_count": 55,
   "metadata": {},
   "outputs": [],
   "source": [
    "# Создадим комбинированное поле \"сезон.эпизод\"\n",
    "\n",
    "sprns_dir_df['season_ep_num'] = sprns_dir_df.season + '.' + sprns_dir_df.ep_num.astype(str)"
   ]
  },
  {
   "cell_type": "code",
   "execution_count": 56,
   "metadata": {},
   "outputs": [],
   "source": [
    "# Удалим исходное поле \n",
    "\n",
    "sprns_dir_df.drop(columns=['season_ep'], inplace=True)"
   ]
  },
  {
   "cell_type": "code",
   "execution_count": 60,
   "metadata": {},
   "outputs": [
    {
     "name": "stdout",
     "output_type": "stream",
     "text": [
      "<class 'pandas.core.frame.DataFrame'>\n",
      "RangeIndex: 86 entries, 0 to 85\n",
      "Data columns (total 4 columns):\n",
      " #   Column         Non-Null Count  Dtype \n",
      "---  ------         --------------  ----- \n",
      " 0   director       86 non-null     object\n",
      " 1   season         86 non-null     object\n",
      " 2   ep_num         86 non-null     int32 \n",
      " 3   season_ep_num  86 non-null     object\n",
      "dtypes: int32(1), object(3)\n",
      "memory usage: 2.5+ KB\n"
     ]
    }
   ],
   "source": [
    "# Просмотр информации о DataFrame с режиссерами\n",
    "\n",
    "sprns_dir_df.info()"
   ]
  },
  {
   "cell_type": "markdown",
   "metadata": {},
   "source": [
    "Сохраняем обработанные данные о режиссерах"
   ]
  },
  {
   "cell_type": "code",
   "execution_count": 40,
   "metadata": {},
   "outputs": [],
   "source": [
    "# sprns_dir_df.to_csv('data/processed/sopranos_directors_edited.csv', index=False)"
   ]
  }
 ],
 "metadata": {
  "kernelspec": {
   "display_name": "Python 3 (ipykernel)",
   "language": "python",
   "name": "python3"
  },
  "language_info": {
   "codemirror_mode": {
    "name": "ipython",
    "version": 3
   },
   "file_extension": ".py",
   "mimetype": "text/x-python",
   "name": "python",
   "nbconvert_exporter": "python",
   "pygments_lexer": "ipython3",
   "version": "3.12.1"
  }
 },
 "nbformat": 4,
 "nbformat_minor": 4
}
