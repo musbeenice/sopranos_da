{
 "cells": [
  {
   "cell_type": "markdown",
   "metadata": {},
   "source": [
    "# The Sopranos\n",
    "### Рейтинг серий и режиссеры"
   ]
  },
  {
   "cell_type": "code",
   "execution_count": 1,
   "metadata": {},
   "outputs": [],
   "source": [
    "import pandas as pd  # Для работы с табличными данными\n",
    "\n",
    "import seaborn as sns  # Для визуализации данных\n",
    "\n",
    "import time  # Для работы с временными задержками\n",
    "\n",
    "import requests  # Для HTTP-запросов\n",
    "from bs4 import BeautifulSoup  # Для парсинга HTML\n",
    "\n",
    "%matplotlib inline  # Для отображения графиков в Jupyter"
   ]
  },
  {
   "cell_type": "code",
   "execution_count": 2,
   "metadata": {},
   "outputs": [],
   "source": [
    "def get_sopranos_ratings():\n",
    "    \n",
    "    \"\"\"Функция для сбора рейтингов эпизодов сериала 'Клан Сопрано' с IMDB\"\"\"\n",
    "    \n",
    "    base_url = \"https://www.imdb.com/title/tt0141842/episodes\"  # Базовый URL\n",
    "    seasons = []# Список для хранения данных\n",
    "    \n",
    "    # Проходим по всем сезонам (от 1 до 6)\n",
    "    for season in range(1, 7):\n",
    "        \n",
    "        # Формируем URL для конкретного сезона\n",
    "        url = f\"{base_url}?season={season}\"\n",
    "        \n",
    "        # Заголовки для имитации браузера и избежания блокировки\n",
    "        headers = {\n",
    "            \"User-Agent\": \"Mozilla/5.0 (Windows NT 10.0; Win64; x64) AppleWebKit/537.36 (KHTML, like Gecko) Chrome/120.0.0.0 Safari/537.36\",\n",
    "            \"Accept-Language\": \"en-US,en;q=0.9\"\n",
    "        }\n",
    "        \n",
    "        # Отправляем GET-запрос и получаем ответ\n",
    "        response = requests.get(url, headers=headers, timeout=10)\n",
    "        response.raise_for_status()\n",
    "        soup = BeautifulSoup(response.text, 'lxml')\n",
    "        \n",
    "        # Находим все контейнеры с эпизодами\n",
    "        episode_containers = soup.find_all('article', class_='sc-fcf4d924-1 emwOvP episode-item-wrapper')\n",
    "        \n",
    "        # Обрабатываем каждый эпизод\n",
    "        for episode in episode_containers:\n",
    "            \n",
    "            # Извлекаем заголовок эпизода\n",
    "            title = episode.find('div', class_='ipc-title__text').text.strip()\n",
    "            \n",
    "            # Парсим номер эпизода (формат \"S01.E01 Название\")\n",
    "            episode_number = title.split('.E')[1].split(' ')[0]\n",
    "            \n",
    "            # Извлекаем название эпизода\n",
    "            ep_title = title.split(' ∙ ')[1]\n",
    "            \n",
    "            # Получаем рейтинг эпизода\n",
    "            rating = episode.find('span', class_='ipc-rating-star--rating').text.strip()\n",
    "            \n",
    "            # Добавляем данные в список\n",
    "            seasons.append({\n",
    "                'season': season,\n",
    "                'ep_num': episode_number,\n",
    "                'ep_title': ep_title,\n",
    "                'ep_rating': rating\n",
    "            })\n",
    "\n",
    "    # Возвращаем собранные данные в виде DataFrame\n",
    "    return pd.DataFrame(seasons)"
   ]
  },
  {
   "cell_type": "code",
   "execution_count": 3,
   "metadata": {},
   "outputs": [],
   "source": [
    "# Сохраняем рейтинги в CSV-файл\n",
    "\n",
    "# get_sopranos_ratings().to_csv('sopranos_ratings.csv', index=False)"
   ]
  },
  {
   "cell_type": "code",
   "execution_count": 6,
   "metadata": {},
   "outputs": [],
   "source": [
    "# Загружаем данные из CSV-файлов\n",
    "\n",
    "sprns_rat_df = pd.read_csv('sopranos_ratings.csv')"
   ]
  },
  {
   "cell_type": "code",
   "execution_count": 4,
   "metadata": {},
   "outputs": [],
   "source": [
    "sprns_dir_df = pd.read_csv('sopranos_directors.csv')"
   ]
  },
  {
   "cell_type": "code",
   "execution_count": 8,
   "metadata": {},
   "outputs": [
    {
     "data": {
      "text/html": [
       "<div>\n",
       "<style scoped>\n",
       "    .dataframe tbody tr th:only-of-type {\n",
       "        vertical-align: middle;\n",
       "    }\n",
       "\n",
       "    .dataframe tbody tr th {\n",
       "        vertical-align: top;\n",
       "    }\n",
       "\n",
       "    .dataframe thead th {\n",
       "        text-align: right;\n",
       "    }\n",
       "</style>\n",
       "<table border=\"1\" class=\"dataframe\">\n",
       "  <thead>\n",
       "    <tr style=\"text-align: right;\">\n",
       "      <th></th>\n",
       "      <th>season</th>\n",
       "      <th>ep_num</th>\n",
       "      <th>ep_title</th>\n",
       "      <th>ep_rating</th>\n",
       "    </tr>\n",
       "  </thead>\n",
       "  <tbody>\n",
       "    <tr>\n",
       "      <th>0</th>\n",
       "      <td>1</td>\n",
       "      <td>1</td>\n",
       "      <td>Pilot</td>\n",
       "      <td>8.4</td>\n",
       "    </tr>\n",
       "    <tr>\n",
       "      <th>1</th>\n",
       "      <td>1</td>\n",
       "      <td>2</td>\n",
       "      <td>46 Long</td>\n",
       "      <td>8.2</td>\n",
       "    </tr>\n",
       "    <tr>\n",
       "      <th>2</th>\n",
       "      <td>1</td>\n",
       "      <td>3</td>\n",
       "      <td>Denial, Anger, Acceptance</td>\n",
       "      <td>8.5</td>\n",
       "    </tr>\n",
       "    <tr>\n",
       "      <th>3</th>\n",
       "      <td>1</td>\n",
       "      <td>4</td>\n",
       "      <td>Meadowlands</td>\n",
       "      <td>8.5</td>\n",
       "    </tr>\n",
       "    <tr>\n",
       "      <th>4</th>\n",
       "      <td>1</td>\n",
       "      <td>5</td>\n",
       "      <td>College</td>\n",
       "      <td>8.9</td>\n",
       "    </tr>\n",
       "  </tbody>\n",
       "</table>\n",
       "</div>"
      ],
      "text/plain": [
       "   season  ep_num                   ep_title  ep_rating\n",
       "0       1       1                      Pilot        8.4\n",
       "1       1       2                    46 Long        8.2\n",
       "2       1       3  Denial, Anger, Acceptance        8.5\n",
       "3       1       4                Meadowlands        8.5\n",
       "4       1       5                    College        8.9"
      ]
     },
     "execution_count": 8,
     "metadata": {},
     "output_type": "execute_result"
    }
   ],
   "source": [
    "# Просмотр первых строк таблицы с рейтингами\n",
    "\n",
    "sprns_rat_df.head()"
   ]
  },
  {
   "cell_type": "code",
   "execution_count": 17,
   "metadata": {},
   "outputs": [],
   "source": [
    "# Обработка данных о режиссерах\n",
    "# Извлекаем номер сезона из строки формата \"S01E01\":\n",
    "\n",
    "sprns_dir_df['season'] = sprns_dir_df.season_ep.str.split('.').str[0].str[1]"
   ]
  },
  {
   "cell_type": "code",
   "execution_count": 23,
   "metadata": {},
   "outputs": [],
   "source": [
    "# Создаем комбинированный столбец \"сезон.эпизод\"\n",
    "\n",
    "sprns_dir_df['ep_num'] = (sprns_dir_df.season_ep.str.split('.').str[1].str[1:]).astype('int')"
   ]
  },
  {
   "cell_type": "code",
   "execution_count": 31,
   "metadata": {},
   "outputs": [],
   "source": [
    "# Создаем комбинированный столбец \"сезон.эпизод\"\n",
    "\n",
    "sprns_dir_df['season_ep_num'] = sprns_dir_df.season + '.' + sprns_dir_df.ep_num.astype(str)"
   ]
  },
  {
   "cell_type": "code",
   "execution_count": 36,
   "metadata": {},
   "outputs": [],
   "source": [
    "# Удаляем исходный столбец \n",
    "\n",
    "sprns_dir_df.drop(columns=['season_ep'], inplace=True)"
   ]
  },
  {
   "cell_type": "code",
   "execution_count": 38,
   "metadata": {
    "scrolled": false
   },
   "outputs": [
    {
     "name": "stdout",
     "output_type": "stream",
     "text": [
      "<class 'pandas.core.frame.DataFrame'>\n",
      "RangeIndex: 86 entries, 0 to 85\n",
      "Data columns (total 4 columns):\n",
      " #   Column         Non-Null Count  Dtype \n",
      "---  ------         --------------  ----- \n",
      " 0   director       86 non-null     object\n",
      " 1   season         86 non-null     object\n",
      " 2   ep_num         86 non-null     int64 \n",
      " 3   season_ep_num  86 non-null     object\n",
      "dtypes: int64(1), object(3)\n",
      "memory usage: 2.8+ KB\n"
     ]
    }
   ],
   "source": [
    "# Просмотр информации о DataFrame с режиссерами\n",
    "\n",
    "sprns_dir_df.info()"
   ]
  },
  {
   "cell_type": "code",
   "execution_count": 40,
   "metadata": {},
   "outputs": [],
   "source": [
    "# Сохраняем обработанные данные о режиссерах\n",
    "\n",
    "# sprns_dir_df.to_csv('sopranos_directors_edited.csv', index=False)"
   ]
  }
 ],
 "metadata": {
  "kernelspec": {
   "display_name": "Python 3",
   "language": "python",
   "name": "python3"
  },
  "language_info": {
   "codemirror_mode": {
    "name": "ipython",
    "version": 3
   },
   "file_extension": ".py",
   "mimetype": "text/x-python",
   "name": "python",
   "nbconvert_exporter": "python",
   "pygments_lexer": "ipython3",
   "version": "3.7.3"
  }
 },
 "nbformat": 4,
 "nbformat_minor": 4
}
